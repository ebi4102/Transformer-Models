{
 "cells": [
  {
   "cell_type": "markdown",
   "id": "a62b3068",
   "metadata": {},
   "source": [
    "### Import Necessary Libraries"
   ]
  },
  {
   "cell_type": "code",
   "execution_count": 1,
   "id": "e0469aac",
   "metadata": {},
   "outputs": [],
   "source": [
    "import numpy as np\n",
    "import pandas as pd\n",
    "import matplotlib.pyplot as plt\n",
    "import seaborn as sns\n",
    "import re\n",
    "import nltk"
   ]
  },
  {
   "cell_type": "markdown",
   "id": "248af75d",
   "metadata": {},
   "source": [
    "### Read \"Valid.csv\" and set it to dataframe variable"
   ]
  },
  {
   "cell_type": "code",
   "execution_count": 2,
   "id": "87180d2f",
   "metadata": {},
   "outputs": [],
   "source": [
    "df=pd.read_csv('Valid.csv')"
   ]
  },
  {
   "cell_type": "markdown",
   "id": "c868e831",
   "metadata": {},
   "source": [
    "### View the top 5 rows"
   ]
  },
  {
   "cell_type": "code",
   "execution_count": 3,
   "id": "55c391ce",
   "metadata": {},
   "outputs": [
    {
     "data": {
      "text/html": [
       "<div>\n",
       "<style scoped>\n",
       "    .dataframe tbody tr th:only-of-type {\n",
       "        vertical-align: middle;\n",
       "    }\n",
       "\n",
       "    .dataframe tbody tr th {\n",
       "        vertical-align: top;\n",
       "    }\n",
       "\n",
       "    .dataframe thead th {\n",
       "        text-align: right;\n",
       "    }\n",
       "</style>\n",
       "<table border=\"1\" class=\"dataframe\">\n",
       "  <thead>\n",
       "    <tr style=\"text-align: right;\">\n",
       "      <th></th>\n",
       "      <th>text</th>\n",
       "      <th>label</th>\n",
       "    </tr>\n",
       "  </thead>\n",
       "  <tbody>\n",
       "    <tr>\n",
       "      <th>0</th>\n",
       "      <td>It's been about 14 years since Sharon Stone aw...</td>\n",
       "      <td>0</td>\n",
       "    </tr>\n",
       "    <tr>\n",
       "      <th>1</th>\n",
       "      <td>someone needed to make a car payment... this i...</td>\n",
       "      <td>0</td>\n",
       "    </tr>\n",
       "    <tr>\n",
       "      <th>2</th>\n",
       "      <td>The Guidelines state that a comment must conta...</td>\n",
       "      <td>0</td>\n",
       "    </tr>\n",
       "    <tr>\n",
       "      <th>3</th>\n",
       "      <td>This movie is a muddled mish-mash of clichés f...</td>\n",
       "      <td>0</td>\n",
       "    </tr>\n",
       "    <tr>\n",
       "      <th>4</th>\n",
       "      <td>Before Stan Laurel became the smaller half of ...</td>\n",
       "      <td>0</td>\n",
       "    </tr>\n",
       "  </tbody>\n",
       "</table>\n",
       "</div>"
      ],
      "text/plain": [
       "                                                text  label\n",
       "0  It's been about 14 years since Sharon Stone aw...      0\n",
       "1  someone needed to make a car payment... this i...      0\n",
       "2  The Guidelines state that a comment must conta...      0\n",
       "3  This movie is a muddled mish-mash of clichés f...      0\n",
       "4  Before Stan Laurel became the smaller half of ...      0"
      ]
     },
     "execution_count": 3,
     "metadata": {},
     "output_type": "execute_result"
    }
   ],
   "source": [
    "df.head()"
   ]
  },
  {
   "cell_type": "markdown",
   "id": "add131bc",
   "metadata": {},
   "source": [
    "### View info of the data"
   ]
  },
  {
   "cell_type": "code",
   "execution_count": 4,
   "id": "43e71515",
   "metadata": {},
   "outputs": [
    {
     "name": "stdout",
     "output_type": "stream",
     "text": [
      "<class 'pandas.core.frame.DataFrame'>\n",
      "RangeIndex: 5000 entries, 0 to 4999\n",
      "Data columns (total 2 columns):\n",
      " #   Column  Non-Null Count  Dtype \n",
      "---  ------  --------------  ----- \n",
      " 0   text    5000 non-null   object\n",
      " 1   label   5000 non-null   int64 \n",
      "dtypes: int64(1), object(1)\n",
      "memory usage: 78.3+ KB\n"
     ]
    }
   ],
   "source": [
    "df.info()"
   ]
  },
  {
   "cell_type": "markdown",
   "id": "603b2beb",
   "metadata": {},
   "source": [
    "### View the basic statistical information about the data"
   ]
  },
  {
   "cell_type": "code",
   "execution_count": 5,
   "id": "979a7ff3",
   "metadata": {},
   "outputs": [
    {
     "data": {
      "text/plain": [
       "text     0\n",
       "label    0\n",
       "dtype: int64"
      ]
     },
     "execution_count": 5,
     "metadata": {},
     "output_type": "execute_result"
    }
   ],
   "source": [
    "df.isna().sum()"
   ]
  },
  {
   "cell_type": "markdown",
   "id": "e2adac25",
   "metadata": {},
   "source": [
    "### Check for duplicates"
   ]
  },
  {
   "cell_type": "code",
   "execution_count": 6,
   "id": "5ca05cb0",
   "metadata": {},
   "outputs": [
    {
     "data": {
      "text/plain": [
       "0       False\n",
       "1       False\n",
       "2       False\n",
       "3       False\n",
       "4       False\n",
       "        ...  \n",
       "4995    False\n",
       "4996    False\n",
       "4997    False\n",
       "4998    False\n",
       "4999    False\n",
       "Length: 5000, dtype: bool"
      ]
     },
     "execution_count": 6,
     "metadata": {},
     "output_type": "execute_result"
    }
   ],
   "source": [
    "df.duplicated()"
   ]
  },
  {
   "cell_type": "code",
   "execution_count": 7,
   "id": "5e11e6a1",
   "metadata": {},
   "outputs": [
    {
     "data": {
      "text/plain": [
       "2"
      ]
     },
     "execution_count": 7,
     "metadata": {},
     "output_type": "execute_result"
    }
   ],
   "source": [
    "df.duplicated().sum()"
   ]
  },
  {
   "cell_type": "markdown",
   "id": "0d5386bb",
   "metadata": {},
   "source": [
    "### Drop Duplicated Rows"
   ]
  },
  {
   "cell_type": "code",
   "execution_count": 8,
   "id": "b4c970d5",
   "metadata": {},
   "outputs": [],
   "source": [
    "df.drop_duplicates(inplace=True)"
   ]
  },
  {
   "cell_type": "markdown",
   "id": "6697e359",
   "metadata": {},
   "source": [
    "### RE-Check the duplicates"
   ]
  },
  {
   "cell_type": "code",
   "execution_count": 9,
   "id": "b45f8072",
   "metadata": {},
   "outputs": [
    {
     "data": {
      "text/plain": [
       "0"
      ]
     },
     "execution_count": 9,
     "metadata": {},
     "output_type": "execute_result"
    }
   ],
   "source": [
    "df.duplicated().sum()"
   ]
  },
  {
   "cell_type": "markdown",
   "id": "6a6447a7",
   "metadata": {},
   "source": [
    "### Plot a Countplot of 'label'"
   ]
  },
  {
   "cell_type": "code",
   "execution_count": 10,
   "id": "9b70487b",
   "metadata": {},
   "outputs": [
    {
     "data": {
      "text/plain": [
       "<Axes: xlabel='label', ylabel='count'>"
      ]
     },
     "execution_count": 10,
     "metadata": {},
     "output_type": "execute_result"
    },
    {
     "data": {
      "image/png": "[encoded data removed]",
      "text/plain": [
       "<Figure size 640x480 with 1 Axes>"
      ]
     },
     "metadata": {},
     "output_type": "display_data"
    }
   ],
   "source": [
    "sns.countplot(x=df['label'])"
   ]
  },
  {
   "cell_type": "markdown",
   "id": "42501298",
   "metadata": {},
   "source": [
    "### Define a function that preprocess the text"
   ]
  },
  {
   "cell_type": "code",
   "execution_count": 11,
   "id": "7cbc351e",
   "metadata": {},
   "outputs": [],
   "source": [
    "from nltk.stem import WordNetLemmatizer\n",
    "from nltk.corpus import stopwords"
   ]
  },
  {
   "cell_type": "markdown",
   "id": "28efef7a",
   "metadata": {},
   "source": [
    "### Apply the function to text column"
   ]
  },
  {
   "cell_type": "code",
   "execution_count": 12,
   "id": "916b8cd9",
   "metadata": {},
   "outputs": [],
   "source": [
    "def pre(sentence):\n",
    "    tex = re.sub(r\"[^a-zA-Z0-9]\",\" \",sentence).split()\n",
    "    words = [x.lower() for x in tex if x not in stopwords.words('english')]\n",
    "    lemma = WordNetLemmatizer()\n",
    "    word = [lemma.lemmatize(word,'v') for word in words ]\n",
    "    word = ' '.join(word)\n",
    "    return word"
   ]
  },
  {
   "cell_type": "code",
   "execution_count": 13,
   "id": "ced6e5e7",
   "metadata": {},
   "outputs": [],
   "source": [
    "df['text']=df['text'].apply(pre)"
   ]
  },
  {
   "cell_type": "markdown",
   "id": "2f280aa2",
   "metadata": {},
   "source": [
    "### Print some of the text after preprocessing"
   ]
  },
  {
   "cell_type": "code",
   "execution_count": 14,
   "id": "62686d2d",
   "metadata": {},
   "outputs": [
    {
     "name": "stdout",
     "output_type": "stream",
     "text": [
      "it 14 years since sharon stone award viewers leg cross twist many people mind and god know game basic instinct 2 sequel smash hit erotica basic instinct feature sexy stone vulnerable michael douglas however fan original might even get close one since instinct 2 painful film make mediocre director michael caton jones assassinate legacy first film br br the plot movie start car explosion break right begin catherine tramell sharon stone try look forcefully sexy suspect appear involve murder a psychiatrist horrible david morrisey appoint examine eventually fall intimate game seduction br br and without explanations basic force move instinct nothing much explain sit sleazy c class erotic film sharon stone star first role time turn part amateurish write careless direction terrifyingly low chemistry the movie full vulgar dialogues even sexuality menage trois scene cut rat nc 17 first entrance series instinct compel torture br br to top everything make original film guilty pleasure find anywhere film the act really bad sharon stone highlight get extremely obnoxious david morrisey star worst role life seem never make two expressions movie confuse arouse instinct 2 horrible way continue otherwise original series manage put thriller erotica extremely well paul verhoeven i miss br br basic instinct 2 never sound like good movie indeed some film never get paper feel get watch now much easier understand douglas david cronenberg drop sharon stone expect huge paycheck 3 10\n",
      "someone need make car payment truly awful make jean claude cyborg look like go wind hour i wish i could sue get back luckily produce severe somnolence i fell asleep actors caliber create dog i would rather spend time watch algae grow side fish tank partake wholly awful concoction several genre i use dvd coaster coffee table 5 99 walmart far much spend movie really wait till throw carry inventory several years frustrate would sell br br please love god let movie die obscurity\n",
      "the guidelines state comment must contain minimum four line that reason i say anything tomcats because one line summary really say everything say there absolutely nothing remotely entertain film\n",
      "this movie muddle mish mash clich recent cinema there promise ideas director clearly aim wind hauntingly ambiguous film end confuse mess lead actor daniel wu fair job central theme seem though much work furthermore movie largely devoid scar although fairness creepy moments amid drudgery br br mild spoilers br br we mysterious death estrange twin diabolical librarians ghostly love interest identity confusion death savage monkey oedipal conflict abusive stepfathers sublimate homosexuality crime gang connections the real commonality elements share seem cause protagonist express vague sense confusion discontent br br perhaps disappoint aspect film despite brother death monkey strongly feature dvd cover act never directly portray instead director julian lee use appear stock footage monkey scary br br end spoilers br br avoid one for excellent psychological ambiguous horror tale check korean film a tale two sisters 2003\n",
      "before stan laurel become smaller half time greatest comedy team labour contract broncho billy anderson series cheapies many parody major hollywood feature follow dispute anderson laurel continue informal series parody joe rock smaller indigent production company br br most laurel parody film mildly funny time even less funny modern audiences see original movie laurel parody west hot dog fairly generic parody cowboy shoot em up it marginally specific parody west pecos oater release two years earlier major actors since west pecos never huge success difficult see stan film unit choose particular movie target lampoonery much less wait long release parody and get title west hot dog possibly fact hot dog sexual interjection favour american lechers 1920s as open scene stage play machinal br br west hot dog produce co direct joe rock among many achievements rock introduce laurel lois neilson subsequently best man wed full disclosure in last years life i great privilege befriend joe rock interview nearly ninety years old time rock memory impressively clear remember nothing west hot dog i blame this movie eminently forgettable br br the lead lady character name little mustard if mean parody something west pecos i get there couple impossible gag include laurel method mount horse for one moment movie stan laurel remind great buster keaton suddenly break run west hot dog vaguely similar subject matter tone keaton short comedy the freeze north keaton version much funnier the plot film somewhat anticipate situation keaton feature our hospitality suffer comparison two tough varmint brothers expect inherit last chance saloon previous owner bequeath weakling tenderfoot stan however brothers become legal heirs stan die hmmm br br seriously though bequest legal as soon stan take possession property surely question ownership inheritance become decision previous owner decision i plenty time consider point law watch dull comedy br br at one point gag involve crude animation draw directly onto film stock it look cheap funny br br this hot dog weiner winner whiner my rat one point 10 hang stan years one half comedy legend\n",
      "this best movie i ever see br br maybe i live miles village story take place i know things work area sweden the movie tell truth believe it criticize honor lifestyle dalarna producer want people watch movie open mind care closest friends relatives br br but live another small village anywhere sweden another country probably also recognize much movie br br thank maria blom\n",
      "the morbid catholic writer gerard reve jeroen krabb homosexual alcoholic frequent visions death invite give lecture literature club vlissingen while railway station amsterdam feel non correspond attraction handsome man embark another train gerard introduce treasurer club beautician christine halsslag ren e soutendijk wealthy widow own beauty shop sphinx one night stand on next morning gerard see picture christine boyfriend herman thom hoffman recognize man saw train station he suggest bring herman house spend couple days together secret intention seduce man christine travel k ln bring boyfriend gerard stay alone house he drink whiskey snoop safe find three film reel name men decide watch footages discover christine marry three guy die tragic accidents later gerard believe christine witch question whether herman doom fourth husband br br the ambiguous the vierde man another magnificent feature paul verhoeven dutch phase the story support excellent screenplay use catholic symbols build tension associate smart dialogs magnificent performance jeroen krabb role disturb alcoholic writer stun cinematography the inconclusive resolution open interpretation like many european movies explore common sense intelligence viewers there mediocre directors use front nudity men promote film however paul verhoeven use nudity gerard reve part plot never aggressive seek sensationalism last least androgynous beauty sexy ren e soutendijk perfectly fit role woman attract gay writer my vote eight br br title brazil o 4o homem the 4th man\n",
      "semana santa angel of death weak movie mira sorvino play detective try find killer shoot arrows people mira italian accent falter time time couldn speak english all character force mexican english accent distract the dialogue bad delivery wooden the cinematography look nice enough save tripe this next part of this review do contain spoilers br br during climax look like villain go get away come back stairs get shoot cool stunt rail that show script originality whatsoever avoid\n",
      "somebody master difficult task merge sport romance in reality sport romance go together like oil water so successfully put two together screen well equivalent split atom i never think could do i first say general i like romantic comedies i like sport movies sport this movie pretty good mix two be baseball fan i could really appreciate comedic ordeal ben wrightman jimmy falon rabid boston redsox fan anyone know anything baseball know curse babe plague redsox 86 years know nut baseball lot redsox fan the farrely brothers great job capture make good comedy this good movie could appeal many\n",
      "why i waste 1 5 hours life watch why film even make why i even comment film br br one reviewer say film take patience watch n everybody i cannot figure movie maybe drop hit acid somebody somewhere could watch make sense it incoherent experimental plain simple garbage the film follow plot line whatsoever think something well br br i think end bring finality film pun intend viewer get glimpse might go i think i put spoiler would matter this film another must miss world filmdom\n"
     ]
    }
   ],
   "source": [
    "for i in range(10):\n",
    "    print(df['text'][i])"
   ]
  },
  {
   "cell_type": "markdown",
   "id": "500f4657",
   "metadata": {},
   "source": [
    "### Assign X and y variables"
   ]
  },
  {
   "cell_type": "code",
   "execution_count": 15,
   "id": "b3a0713b",
   "metadata": {},
   "outputs": [],
   "source": [
    "X = df['text'][0:500] \n",
    "y = df['label'][0:500]"
   ]
  },
  {
   "cell_type": "markdown",
   "id": "908176e1",
   "metadata": {},
   "source": [
    "### Split the data into training and testing set"
   ]
  },
  {
   "cell_type": "code",
   "execution_count": 16,
   "id": "0eb9e094",
   "metadata": {},
   "outputs": [],
   "source": [
    "from sklearn.model_selection import train_test_split"
   ]
  },
  {
   "cell_type": "code",
   "execution_count": 17,
   "id": "22572bc3",
   "metadata": {},
   "outputs": [],
   "source": [
    "X_train, X_test, y_train, y_test = train_test_split(X, y, test_size=0.8, random_state=100)"
   ]
  },
  {
   "cell_type": "markdown",
   "id": "9e256078",
   "metadata": {},
   "source": [
    "### Install transformers library"
   ]
  },
  {
   "cell_type": "code",
   "execution_count": 18,
   "id": "a647a458",
   "metadata": {},
   "outputs": [
    {
     "name": "stdout",
     "output_type": "stream",
     "text": [
      "Requirement already satisfied: transformers in c:\\users\\asus\\anaconda3\\lib\\site-packages (4.41.2)\n",
      "Requirement already satisfied: filelock in c:\\users\\asus\\anaconda3\\lib\\site-packages (from transformers) (3.9.0)\n",
      "Requirement already satisfied: huggingface-hub<1.0,>=0.23.0 in c:\\users\\asus\\anaconda3\\lib\\site-packages (from transformers) (0.23.3)\n",
      "Requirement already satisfied: numpy>=1.17 in c:\\users\\asus\\anaconda3\\lib\\site-packages (from transformers) (1.24.3)\n",
      "Requirement already satisfied: packaging>=20.0 in c:\\users\\asus\\anaconda3\\lib\\site-packages (from transformers) (23.1)\n",
      "Requirement already satisfied: pyyaml>=5.1 in c:\\users\\asus\\anaconda3\\lib\\site-packages (from transformers) (6.0)\n",
      "Requirement already satisfied: regex!=2019.12.17 in c:\\users\\asus\\anaconda3\\lib\\site-packages (from transformers) (2022.7.9)\n",
      "Requirement already satisfied: requests in c:\\users\\asus\\anaconda3\\lib\\site-packages (from transformers) (2.31.0)\n",
      "Requirement already satisfied: tokenizers<0.20,>=0.19 in c:\\users\\asus\\anaconda3\\lib\\site-packages (from transformers) (0.19.1)\n",
      "Requirement already satisfied: safetensors>=0.4.1 in c:\\users\\asus\\anaconda3\\lib\\site-packages (from transformers) (0.4.3)\n",
      "Requirement already satisfied: tqdm>=4.27 in c:\\users\\asus\\anaconda3\\lib\\site-packages (from transformers) (4.65.0)\n",
      "Requirement already satisfied: fsspec>=2023.5.0 in c:\\users\\asus\\anaconda3\\lib\\site-packages (from huggingface-hub<1.0,>=0.23.0->transformers) (2024.6.0)\n",
      "Requirement already satisfied: typing-extensions>=3.7.4.3 in c:\\users\\asus\\anaconda3\\lib\\site-packages (from huggingface-hub<1.0,>=0.23.0->transformers) (4.7.1)\n",
      "Requirement already satisfied: colorama in c:\\users\\asus\\anaconda3\\lib\\site-packages (from tqdm>=4.27->transformers) (0.4.6)\n",
      "Requirement already satisfied: charset-normalizer<4,>=2 in c:\\users\\asus\\anaconda3\\lib\\site-packages (from requests->transformers) (2.0.4)\n",
      "Requirement already satisfied: idna<4,>=2.5 in c:\\users\\asus\\anaconda3\\lib\\site-packages (from requests->transformers) (3.4)\n",
      "Requirement already satisfied: urllib3<3,>=1.21.1 in c:\\users\\asus\\anaconda3\\lib\\site-packages (from requests->transformers) (1.26.16)\n",
      "Requirement already satisfied: certifi>=2017.4.17 in c:\\users\\asus\\anaconda3\\lib\\site-packages (from requests->transformers) (2023.7.22)\n"
     ]
    }
   ],
   "source": [
    "!pip install transformers"
   ]
  },
  {
   "cell_type": "code",
   "execution_count": 19,
   "id": "031fac03",
   "metadata": {},
   "outputs": [
    {
     "name": "stdout",
     "output_type": "stream",
     "text": [
      "WARNING:tensorflow:From C:\\Users\\ASUS\\anaconda3\\Lib\\site-packages\\tf_keras\\src\\losses.py:2976: The name tf.losses.sparse_softmax_cross_entropy is deprecated. Please use tf.compat.v1.losses.sparse_softmax_cross_entropy instead.\n",
      "\n"
     ]
    }
   ],
   "source": [
    "import tensorflow as tf\n",
    "from transformers import DistilBertTokenizerFast,TFDistilBertForSequenceClassification, TFAutoModelForSequenceClassification\n",
    "from tensorflow.keras.optimizers import Adam"
   ]
  },
  {
   "cell_type": "markdown",
   "id": "44ec74f7",
   "metadata": {},
   "source": [
    "### Tokenize the Data"
   ]
  },
  {
   "cell_type": "code",
   "execution_count": 20,
   "id": "3f08d2d2",
   "metadata": {},
   "outputs": [],
   "source": [
    "tokenizer = DistilBertTokenizerFast.from_pretrained(\"distilbert-base-uncased\")"
   ]
  },
  {
   "cell_type": "code",
   "execution_count": 21,
   "id": "9c086593",
   "metadata": {},
   "outputs": [],
   "source": [
    "train_encoding = tokenizer(X_train.tolist(), truncation=True, padding=True)\n",
    "test_encoding = tokenizer(X_test.tolist(), truncation=True, padding=True)"
   ]
  },
  {
   "cell_type": "code",
   "execution_count": 22,
   "id": "007bf2a5",
   "metadata": {},
   "outputs": [],
   "source": [
    "import tensorflow as tf\n",
    "\n",
    "train_dataset= tf.data.Dataset.from_tensor_slices((dict(train_encoding),y_train))\n",
    "test_dataset= tf.data.Dataset.from_tensor_slices((dict(test_encoding),y_test))"
   ]
  },
  {
   "cell_type": "markdown",
   "id": "b613f3be",
   "metadata": {},
   "source": [
    "### Initialize and compile the model"
   ]
  },
  {
   "cell_type": "code",
   "execution_count": 23,
   "id": "a81cfaf4",
   "metadata": {},
   "outputs": [
    {
     "name": "stdout",
     "output_type": "stream",
     "text": [
      "WARNING:tensorflow:From C:\\Users\\ASUS\\anaconda3\\Lib\\site-packages\\tf_keras\\src\\backend.py:873: The name tf.get_default_graph is deprecated. Please use tf.compat.v1.get_default_graph instead.\n",
      "\n"
     ]
    },
    {
     "name": "stderr",
     "output_type": "stream",
     "text": [
      "Some weights of the PyTorch model were not used when initializing the TF 2.0 model TFDistilBertForSequenceClassification: ['vocab_transform.weight', 'vocab_projector.bias', 'vocab_layer_norm.weight', 'vocab_transform.bias', 'vocab_layer_norm.bias']\n",
      "- This IS expected if you are initializing TFDistilBertForSequenceClassification from a PyTorch model trained on another task or with another architecture (e.g. initializing a TFBertForSequenceClassification model from a BertForPreTraining model).\n",
      "- This IS NOT expected if you are initializing TFDistilBertForSequenceClassification from a PyTorch model that you expect to be exactly identical (e.g. initializing a TFBertForSequenceClassification model from a BertForSequenceClassification model).\n",
      "Some weights or buffers of the TF 2.0 model TFDistilBertForSequenceClassification were not initialized from the PyTorch model and are newly initialized: ['pre_classifier.weight', 'pre_classifier.bias', 'classifier.weight', 'classifier.bias']\n",
      "You should probably TRAIN this model on a down-stream task to be able to use it for predictions and inference.\n"
     ]
    }
   ],
   "source": [
    "model = TFDistilBertForSequenceClassification.from_pretrained(\"distilbert-base-uncased\", num_labels=2)"
   ]
  },
  {
   "cell_type": "code",
   "execution_count": 24,
   "id": "7a27032a",
   "metadata": {},
   "outputs": [
    {
     "name": "stdout",
     "output_type": "stream",
     "text": [
      "WARNING:tensorflow:From C:\\Users\\ASUS\\anaconda3\\Lib\\site-packages\\tf_keras\\src\\optimizers\\__init__.py:317: The name tf.train.Optimizer is deprecated. Please use tf.compat.v1.train.Optimizer instead.\n",
      "\n"
     ]
    }
   ],
   "source": [
    "model.compile(optimizer='Adam', loss=tf.keras.losses.SparseCategoricalCrossentropy(from_logits=True), metrics=['accuracy'])"
   ]
  },
  {
   "cell_type": "markdown",
   "id": "23e1451f",
   "metadata": {},
   "source": [
    "### Train the model"
   ]
  },
  {
   "cell_type": "code",
   "execution_count": 25,
   "id": "877967cb",
   "metadata": {},
   "outputs": [
    {
     "name": "stdout",
     "output_type": "stream",
     "text": [
      "Epoch 1/5\n",
      "WARNING:tensorflow:AutoGraph could not transform <function infer_framework at 0x0000024D5EDCF560> and will run it as-is.\n",
      "Cause: for/else statement not yet supported\n",
      "To silence this warning, decorate the function with @tf.autograph.experimental.do_not_convert\n",
      "WARNING: AutoGraph could not transform <function infer_framework at 0x0000024D5EDCF560> and will run it as-is.\n",
      "Cause: for/else statement not yet supported\n",
      "To silence this warning, decorate the function with @tf.autograph.experimental.do_not_convert\n",
      "WARNING:tensorflow:From C:\\Users\\ASUS\\anaconda3\\Lib\\site-packages\\tensorflow\\python\\autograph\\converters\\directives.py:126: The name tf.nn.fused_batch_norm is deprecated. Please use tf.compat.v1.nn.fused_batch_norm instead.\n",
      "\n",
      "WARNING:tensorflow:From C:\\Users\\ASUS\\anaconda3\\Lib\\site-packages\\tensorflow\\python\\autograph\\converters\\directives.py:126: The name tf.ragged.RaggedTensorValue is deprecated. Please use tf.compat.v1.ragged.RaggedTensorValue instead.\n",
      "\n",
      "WARNING:tensorflow:From C:\\Users\\ASUS\\anaconda3\\Lib\\site-packages\\tf_keras\\src\\engine\\base_layer_utils.py:384: The name tf.executing_eagerly_outside_functions is deprecated. Please use tf.compat.v1.executing_eagerly_outside_functions instead.\n",
      "\n",
      "7/7 [==============================] - 356s 47s/step - loss: 0.7862 - accuracy: 0.4900 - val_loss: 0.6939 - val_accuracy: 0.4700\n",
      "Epoch 2/5\n",
      "7/7 [==============================] - 341s 48s/step - loss: 0.6986 - accuracy: 0.5300 - val_loss: 0.6920 - val_accuracy: 0.5300\n",
      "Epoch 3/5\n",
      "7/7 [==============================] - 350s 48s/step - loss: 0.7924 - accuracy: 0.5100 - val_loss: 0.7084 - val_accuracy: 0.5300\n",
      "Epoch 4/5\n",
      "7/7 [==============================] - 310s 45s/step - loss: 0.8959 - accuracy: 0.5500 - val_loss: 0.7243 - val_accuracy: 0.4700\n",
      "Epoch 5/5\n",
      "7/7 [==============================] - 367s 54s/step - loss: 0.6940 - accuracy: 0.5300 - val_loss: 0.6913 - val_accuracy: 0.5300\n"
     ]
    }
   ],
   "source": [
    "history = model.fit(train_dataset.shuffle(1000).batch(16), \n",
    "                    epochs=5, \n",
    "                    batch_size=16,\n",
    "                    validation_data=test_dataset.batch(16))"
   ]
  },
  {
   "cell_type": "markdown",
   "id": "9488dd97",
   "metadata": {},
   "source": [
    "### Evaluate the Model"
   ]
  },
  {
   "cell_type": "code",
   "execution_count": 26,
   "id": "6602a54b",
   "metadata": {},
   "outputs": [
    {
     "name": "stdout",
     "output_type": "stream",
     "text": [
      "25/25 [==============================] - 112s 4s/step - loss: 0.6913 - accuracy: 0.5300\n",
      "Test Accuracy: 0.5299999713897705\n"
     ]
    }
   ],
   "source": [
    "loss, accuracy = model.evaluate(test_dataset.batch(16))\n",
    "print(f\"Test Accuracy: {accuracy}\")"
   ]
  },
  {
   "cell_type": "markdown",
   "id": "ed4708fd",
   "metadata": {},
   "source": [
    "### Visualize the Training History"
   ]
  },
  {
   "cell_type": "code",
   "execution_count": 27,
   "id": "d1eeab69",
   "metadata": {},
   "outputs": [
    {
     "data": {
      "image/png": "[encoded data removed]",
      "text/plain": [
       "<Figure size 1200x600 with 2 Axes>"
      ]
     },
     "metadata": {},
     "output_type": "display_data"
    }
   ],
   "source": [
    "plt.figure(figsize=(12, 6))\n",
    "\n",
    "plt.subplot(1, 2, 1)\n",
    "plt.plot(history.history['accuracy'], label='Train Accuracy')\n",
    "plt.plot(history.history['val_accuracy'], label='Validation Accuracy')\n",
    "plt.xlabel('Epochs')\n",
    "plt.ylabel('Accuracy')\n",
    "plt.legend()\n",
    "\n",
    "plt.subplot(1, 2, 2)\n",
    "plt.plot(history.history['loss'], label='Train Loss')\n",
    "plt.plot(history.history['val_loss'], label='Validation Loss')\n",
    "plt.xlabel('Epochs')\n",
    "plt.ylabel('Loss')\n",
    "plt.legend()\n",
    "\n",
    "plt.show()"
   ]
  },
  {
   "cell_type": "markdown",
   "id": "624ebb72",
   "metadata": {},
   "source": [
    "### Make predictions on the test set"
   ]
  },
  {
   "cell_type": "code",
   "execution_count": 32,
   "id": "7bcde825",
   "metadata": {},
   "outputs": [
    {
     "name": "stdout",
     "output_type": "stream",
     "text": [
      "25/25 [==============================] - 114s 4s/step\n"
     ]
    }
   ],
   "source": [
    "y_pred = model.predict(test_dataset.batch(16))\n",
    "y_pred = np.argmax(y_pred.logits, axis=1)"
   ]
  },
  {
   "cell_type": "markdown",
   "id": "78caa462",
   "metadata": {},
   "source": [
    "### Plot a Heatmap"
   ]
  },
  {
   "cell_type": "code",
   "execution_count": 33,
   "id": "decb7d89",
   "metadata": {},
   "outputs": [],
   "source": [
    "from sklearn.metrics import confusion_matrix"
   ]
  },
  {
   "cell_type": "code",
   "execution_count": 34,
   "id": "9014a54d",
   "metadata": {},
   "outputs": [
    {
     "data": {
      "text/plain": [
       "<Axes: >"
      ]
     },
     "execution_count": 34,
     "metadata": {},
     "output_type": "execute_result"
    },
    {
     "data": {
      "image/png": "[encoded data removed]",
      "text/plain": [
       "<Figure size 640x480 with 2 Axes>"
      ]
     },
     "metadata": {},
     "output_type": "display_data"
    }
   ],
   "source": [
    "sns.heatmap(confusion_matrix(y_test, y_pred), annot=True, fmt='d', cmap='Blues', xticklabels=['Negative', 'Positive'], yticklabels=['Negative', 'Positive'])"
   ]
  }
 ],
 "metadata": {
  "kernelspec": {
   "display_name": "Python 3 (ipykernel)",
   "language": "python",
   "name": "python3"
  },
  "language_info": {
   "codemirror_mode": {
    "name": "ipython",
    "version": 3
   },
   "file_extension": ".py",
   "mimetype": "text/x-python",
   "name": "python",
   "nbconvert_exporter": "python",
   "pygments_lexer": "ipython3",
   "version": "3.11.5"
  }
 },
 "nbformat": 4,
 "nbformat_minor": 5
}
